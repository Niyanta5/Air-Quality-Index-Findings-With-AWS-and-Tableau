{
 "cells": [
  {
   "cell_type": "code",
   "execution_count": null,
   "id": "09a8fcd6",
   "metadata": {},
   "outputs": [],
   "source": [
    "from sqlalchemy import create_engine\n",
    "import pandas as pd\n",
    "df_no2 = pd.read_csv(\"https://ia-final-project.s3.us-east-2.amazonaws.com/final-project-merged/no2_merged.csv\")\n",
    "df_co = pd.read_csv(\"https://ia-final-project.s3.us-east-2.amazonaws.com/final-project-merged/co_merged.csv\")\n",
    "df_ozone = pd.read_csv(\"https://ia-final-project.s3.us-east-2.amazonaws.com/final-project-merged/ozone_merged.csv\")\n",
    "df_pm_ten = pd.read_csv(\"https://ia-final-project.s3.us-east-2.amazonaws.com/final-project-merged/pm10_merged.csv\")\n",
    "df_pm_two_point_five = pd.read_csv(\"https://ia-final-project.s3.us-east-2.amazonaws.com/final-project-merged/pm25_merged.csv\")\n",
    "    \n",
    "# Setting the RDS credentials \n",
    "rds_endpoint = 'database-2.cb4qo4ewio8w.us-east-2.rds.amazonaws.com'\n",
    "rds_port = '3306'\n",
    "rds_db_name = 'AQI'\n",
    "rds_username = 'admin'\n",
    "rds_password = 'abc12345'\n",
    "\n",
    "# Connecting to RDS \n",
    "engine = create_engine(f'mysql+pymysql://{rds_username}:{rds_password}@{rds_endpoint}:{rds_port}/{rds_db_name}')\n",
    "\n",
    "table_name1 = \"Ozone\"  \n",
    "table_name2 = \"Carbon Monoxide\"  \n",
    "table_name3 = \"PM2.5\" \n",
    "table_name4 = \"PM10\"  \n",
    "table_name5 = \"Nitrogen Dioxide\"  \n",
    "\n",
    "# Write the data to SQL\n",
    "df_ozone.to_sql(table_name1, con=engine, if_exists='replace', index=False)\n",
    "df_co.to_sql(table_name2, con=engine, if_exists='replace', index=False)\n",
    "df_pm_two_point_five.to_sql(table_name3, con=engine, if_exists='replace', index=False)\n",
    "df_pm_ten.to_sql(table_name4, con=engine, if_exists='replace', index=False)\n",
    "df_no2.to_sql(table_name5, con=engine, if_exists='replace', index=False)\n"
   ]
  }
 ],
 "metadata": {
  "kernelspec": {
   "display_name": "Python 3 (ipykernel)",
   "language": "python",
   "name": "python3"
  },
  "language_info": {
   "codemirror_mode": {
    "name": "ipython",
    "version": 3
   },
   "file_extension": ".py",
   "mimetype": "text/x-python",
   "name": "python",
   "nbconvert_exporter": "python",
   "pygments_lexer": "ipython3",
   "version": "3.11.4"
  }
 },
 "nbformat": 4,
 "nbformat_minor": 5
}
