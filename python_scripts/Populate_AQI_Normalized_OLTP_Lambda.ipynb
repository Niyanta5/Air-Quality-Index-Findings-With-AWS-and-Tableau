{
 "cells": [
  {
   "cell_type": "code",
   "execution_count": null,
   "id": "e8a95064",
   "metadata": {},
   "outputs": [],
   "source": [
    "import mysql.connector\n",
    "from mysql.connector import errorcode\n",
    "\n",
    "rds_endpoint = 'database-1.cb4qo4ewio8w.us-east-2.rds.amazonaws.com'\n",
    "rds_username = 'admin'\n",
    "rds_password = 'abc12345'\n",
    "rds_port = '3306'\n",
    "rds_db_name = 'AQI'\n",
    "\n",
    "try:\n",
    "  connection = mysql.connector.connect(\n",
    "      host=rds_endpoint,\n",
    "      user=rds_username,\n",
    "      password=rds_password,\n",
    "      database=rds_db_name,\n",
    "      port = rds_port\n",
    "  )\n",
    "except mysql.connector.Error as err:\n",
    "  print(\"Error connecting to database:\", err)\n",
    "\n",
    "cursor = connection.cursor()\n",
    "\n",
    "procedure_name = \"create_and_populate_aqi_db\" \n",
    "try:\n",
    "  cursor.callproc(procedure_name)  \n",
    "  connection.commit()  # Commit changes to the database\n",
    "except mysql.connector.Error as err:\n",
    "  print(\"Error calling procedure:\", err)\n",
    "  connection.rollback()  # Rollback if there's an error\n",
    "\n",
    "    \n",
    "cursor.close()\n",
    "connection.close()"
   ]
  }
 ],
 "metadata": {
  "kernelspec": {
   "display_name": "Python 3 (ipykernel)",
   "language": "python",
   "name": "python3"
  },
  "language_info": {
   "codemirror_mode": {
    "name": "ipython",
    "version": 3
   },
   "file_extension": ".py",
   "mimetype": "text/x-python",
   "name": "python",
   "nbconvert_exporter": "python",
   "pygments_lexer": "ipython3",
   "version": "3.11.4"
  }
 },
 "nbformat": 4,
 "nbformat_minor": 5
}
